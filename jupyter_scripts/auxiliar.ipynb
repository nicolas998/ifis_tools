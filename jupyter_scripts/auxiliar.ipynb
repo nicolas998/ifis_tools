{
 "cells": [
  {
   "cell_type": "markdown",
   "metadata": {},
   "source": [
    "# auxiliar\n",
    "\n",
    "set of auxiliar functions that support the rest of the scripts."
   ]
  },
  {
   "cell_type": "code",
   "execution_count": 1,
   "metadata": {},
   "outputs": [],
   "source": [
    "import os\n",
    "from datetime import timezone, datetime\n",
    "import fileinput"
   ]
  },
  {
   "cell_type": "code",
   "execution_count": 2,
   "metadata": {
    "lines_to_next_cell": 0
   },
   "outputs": [],
   "source": [
    "\n",
    "def __make_folder__(pathFolder):\n",
    "    '''Creates a new folder in the specify path'''\n",
    "    #Check that there is no extension\n",
    "    pathFolder = list(os.path.splitext(pathFolder))\n",
    "    if len(pathFolder[-1])>0:\n",
    "        return 'Error: path to folder must not contain an extension'\n",
    "    else:\n",
    "        #check if the directory already exists\n",
    "        if os.path.isdir(pathFolder[0]):            \n",
    "            return 'Error: the folder already exists'\n",
    "        else:\n",
    "            #Comand to create folder.\n",
    "            comando = 'mkdir '+pathFolder[0]\n",
    "            os.system(comando)\n",
    "            return 0            \n",
    "\n",
    "def __check_extension__(path, ext, putExtension = True):\n",
    "    '''Check if the path or file given ends with the right extension\n",
    "    Parameters:\n",
    "        - path: the path of the file to eval.\n",
    "        - ext: extension (with the period \".ext) to compare with.\n",
    "        - putExtension: Put or not the new extension to the file.\n",
    "    Returns:\n",
    "        - 0 if has the extension, 1 if not.\n",
    "        - the path with the extension.'''\n",
    "    #Obtains the extension \n",
    "    path = list(os.path.splitext(path))\n",
    "    if path[-1] == ext:\n",
    "        return 0\n",
    "    else:\n",
    "        if putExtension:\n",
    "            path[-1] = ext\n",
    "            return ''.join(path)\n",
    "        else:\n",
    "            return 1\n",
    "\n",
    "####################################################################################################################\n",
    "# Date and time utilities.\n",
    "####################################################################################################################\n",
    "\n",
    "def __datetime2unix__(date):\n",
    "    '''Converts a datetime object into a unix time\n",
    "    this is usefull for SQL queries.\n",
    "    Parameters:\n",
    "        - date: a datetime object datetime.datetime(YYYY,MM,DD,HH,MM)\n",
    "            or a string object with the date format.\n",
    "    Returns:\n",
    "        - unix time: the total elapsed time in unix format'''\n",
    "    #Check format \n",
    "    formato = '%Y-%m-%d %H:%M '\n",
    "    flag = True\n",
    "    i = 1\n",
    "    while flag:\n",
    "        try:\n",
    "            date = datetime.strptime(date, formato[:-i])\n",
    "            flag = False\n",
    "        except:\n",
    "            i += 1\n",
    "        if i>len(formato): flag = False\n",
    "    #make the conversion\n",
    "    timestamp = date.replace(tzinfo=timezone.utc).timestamp()\n",
    "    return int(timestamp)\n",
    "\n",
    "####################################################################################################################\n",
    "# Asynch utilities\n",
    "####################################################################################################################\n",
    "\n",
    "def __ASYNCH_initialFile__(InitialOut, linkID, InitialBase = '190BaseInitial.dbc'):\n",
    "    '''Set the dbc query for the initial conditions for asynch\n",
    "    Parameters:\n",
    "        - InitialOut: The path and name of the outlet initial file for the dbc.\n",
    "        - linkID: the link in which is going to be placed the initial file.\n",
    "        - InicialBase: Path to the basefile for the stablishment of the initial file.\n",
    "    Results:\n",
    "        - Writes the initial file at InitialOut.'''\n",
    "    #Chekc the extension of hte initial file \n",
    "    __check_extension__(InitialOut, '.dbc')\n",
    "    # Copy the initial file state in\n",
    "    comando = 'cp '+InitialBase+' '+InitialOut\n",
    "    os.system(comando)\n",
    "    # Replace the linkID in the initial file so asynch knows.\n",
    "    filename = InitialOut\n",
    "    with fileinput.FileInput(filename, inplace = True) as file:\n",
    "        for line in file:\n",
    "            text_to_search = '¿linkID?'\n",
    "            replacement_text = str(linkID)\n",
    "            print(line.replace(text_to_search, replacement_text), end='')"
   ]
  },
  {
   "cell_type": "code",
   "execution_count": null,
   "metadata": {
    "lines_to_next_cell": 2
   },
   "outputs": [],
   "source": []
  }
 ],
 "metadata": {
  "jupytext": {
   "formats": "jupyter_scripts//ipynb,ifis_tools//py"
  },
  "kernelspec": {
   "display_name": "Python 3",
   "language": "python",
   "name": "python3"
  },
  "language_info": {
   "codemirror_mode": {
    "name": "ipython",
    "version": 3
   },
   "file_extension": ".py",
   "mimetype": "text/x-python",
   "name": "python",
   "nbconvert_exporter": "python",
   "pygments_lexer": "ipython3",
   "version": "3.5.3"
  }
 },
 "nbformat": 4,
 "nbformat_minor": 2
}
