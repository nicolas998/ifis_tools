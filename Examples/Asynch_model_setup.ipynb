{
 "cells": [
  {
   "cell_type": "markdown",
   "metadata": {},
   "source": [
    "# Setup Iowa for experiment with different initial conditions\n",
    "\n",
    "In this case we will use the new model (604) with the $\\Delta S$ obtained from GRACE"
   ]
  },
  {
   "cell_type": "code",
   "execution_count": 1,
   "metadata": {},
   "outputs": [
    {
     "name": "stdout",
     "output_type": "stream",
     "text": [
      "Unable to import WMF, cant create basins whit it\n"
     ]
    }
   ],
   "source": [
    "from ifis_tools import asynch_manager as am \n",
    "from ifis_tools import database_tools as db \n",
    "import pandas as pd \n",
    "import numpy as np \n",
    "from ipywidgets import FloatProgress\n",
    "from IPython.display import display"
   ]
  },
  {
   "cell_type": "code",
   "execution_count": 2,
   "metadata": {},
   "outputs": [],
   "source": [
    "path_out = 'C:/Users/nicolas/Desktop/'"
   ]
  },
  {
   "cell_type": "markdown",
   "metadata": {},
   "source": [
    "---\n",
    "## 1. Set up of a watershed to eentually run with Async\n",
    "From the database creates an element of the \"watershed\" for Iowa that includes all the links, if **linkid != 0**, the watershed will be the upstream elements of that link."
   ]
  },
  {
   "cell_type": "code",
   "execution_count": 3,
   "metadata": {},
   "outputs": [],
   "source": [
    "cu = am.hlmModel(linkid=0, model_uid=604)"
   ]
  },
  {
   "cell_type": "code",
   "execution_count": 21,
   "metadata": {},
   "outputs": [
    {
     "data": {
      "text/html": [
       "<div>\n",
       "<style scoped>\n",
       "    .dataframe tbody tr th:only-of-type {\n",
       "        vertical-align: middle;\n",
       "    }\n",
       "\n",
       "    .dataframe tbody tr th {\n",
       "        vertical-align: top;\n",
       "    }\n",
       "\n",
       "    .dataframe thead th {\n",
       "        text-align: right;\n",
       "    }\n",
       "</style>\n",
       "<table border=\"1\" class=\"dataframe\">\n",
       "  <thead>\n",
       "    <tr style=\"text-align: right;\">\n",
       "      <th></th>\n",
       "      <th>Acum</th>\n",
       "      <th>Area</th>\n",
       "      <th>Long</th>\n",
       "    </tr>\n",
       "    <tr>\n",
       "      <th>link_id</th>\n",
       "      <th></th>\n",
       "      <th></th>\n",
       "      <th></th>\n",
       "    </tr>\n",
       "  </thead>\n",
       "  <tbody>\n",
       "    <tr>\n",
       "      <th>298897</th>\n",
       "      <td>2.377302</td>\n",
       "      <td>0.051123</td>\n",
       "      <td>0.163</td>\n",
       "    </tr>\n",
       "    <tr>\n",
       "      <th>458960</th>\n",
       "      <td>0.452436</td>\n",
       "      <td>0.452436</td>\n",
       "      <td>0.679</td>\n",
       "    </tr>\n",
       "    <tr>\n",
       "      <th>555843</th>\n",
       "      <td>5787.299000</td>\n",
       "      <td>0.012554</td>\n",
       "      <td>0.163</td>\n",
       "    </tr>\n",
       "  </tbody>\n",
       "</table>\n",
       "</div>"
      ],
      "text/plain": [
       "                Acum      Area   Long\n",
       "link_id                              \n",
       "298897      2.377302  0.051123  0.163\n",
       "458960      0.452436  0.452436  0.679\n",
       "555843   5787.299000  0.012554  0.163"
      ]
     },
     "execution_count": 21,
     "metadata": {},
     "output_type": "execute_result"
    }
   ],
   "source": [
    "cu.Table.head(3)"
   ]
  },
  {
   "cell_type": "markdown",
   "metadata": {},
   "source": [
    "**Table 1** : The initial table only contains the link_id, total area, hill area and link lenght. "
   ]
  },
  {
   "cell_type": "code",
   "execution_count": 22,
   "metadata": {},
   "outputs": [],
   "source": [
    "# Here the code sorts and writes the topology file for the watershed.\n",
    "cu.write_rvr(path=path_out + 'topology.rvr')"
   ]
  },
  {
   "cell_type": "code",
   "execution_count": 24,
   "metadata": {},
   "outputs": [
    {
     "data": {
      "text/html": [
       "<div>\n",
       "<style scoped>\n",
       "    .dataframe tbody tr th:only-of-type {\n",
       "        vertical-align: middle;\n",
       "    }\n",
       "\n",
       "    .dataframe tbody tr th {\n",
       "        vertical-align: top;\n",
       "    }\n",
       "\n",
       "    .dataframe thead th {\n",
       "        text-align: right;\n",
       "    }\n",
       "</style>\n",
       "<table border=\"1\" class=\"dataframe\">\n",
       "  <thead>\n",
       "    <tr style=\"text-align: right;\">\n",
       "      <th></th>\n",
       "      <th>id</th>\n",
       "      <th>link_id</th>\n",
       "    </tr>\n",
       "  </thead>\n",
       "  <tbody>\n",
       "    <tr>\n",
       "      <th>0</th>\n",
       "      <td>24431</td>\n",
       "      <td>24854</td>\n",
       "    </tr>\n",
       "    <tr>\n",
       "      <th>1</th>\n",
       "      <td>24431</td>\n",
       "      <td>25385</td>\n",
       "    </tr>\n",
       "    <tr>\n",
       "      <th>2</th>\n",
       "      <td>24432</td>\n",
       "      <td>24431</td>\n",
       "    </tr>\n",
       "  </tbody>\n",
       "</table>\n",
       "</div>"
      ],
      "text/plain": [
       "      id  link_id\n",
       "0  24431    24854\n",
       "1  24431    25385\n",
       "2  24432    24431"
      ]
     },
     "execution_count": 24,
     "metadata": {},
     "output_type": "execute_result"
    }
   ],
   "source": [
    "cu.topo.head(3)"
   ]
  },
  {
   "cell_type": "markdown",
   "metadata": {},
   "source": [
    "**Table 2**: Topology table, this is the table that **ifis_tools** uses to write the **.rvr** file for ASYNCH."
   ]
  },
  {
   "cell_type": "markdown",
   "metadata": {},
   "source": [
    "---\n",
    "## 2. Set up for model with $Ds$ and $k3$ from USGS data\n",
    "\n",
    "Initial characteristics to setup the model soil depth and water depletion from the hills."
   ]
  },
  {
   "cell_type": "code",
   "execution_count": 5,
   "metadata": {},
   "outputs": [],
   "source": [
    "#Data with results from the analysis of the USGS stations\n",
    "D = pd.read_csv('DeltaResults.csv')\n",
    "\n",
    "#Depth of the soil and several initial conditions.\n",
    "SoilDepth = np.percentile(D['DS'], 50)\n",
    "initial = [1-SoilDepth*i for i in [0.001,0.2,0.4,0.6,0.8]]\n",
    "\n",
    "#Speed at which the water goes out from the hill soils\n",
    "k3 = 1 / (D['Days'] * 24*60)\n",
    "k3 = np.percentile(k3, 50)"
   ]
  },
  {
   "cell_type": "code",
   "execution_count": 25,
   "metadata": {},
   "outputs": [
    {
     "data": {
      "text/html": [
       "<div>\n",
       "<style scoped>\n",
       "    .dataframe tbody tr th:only-of-type {\n",
       "        vertical-align: middle;\n",
       "    }\n",
       "\n",
       "    .dataframe tbody tr th {\n",
       "        vertical-align: top;\n",
       "    }\n",
       "\n",
       "    .dataframe thead th {\n",
       "        text-align: right;\n",
       "    }\n",
       "</style>\n",
       "<table border=\"1\" class=\"dataframe\">\n",
       "  <thead>\n",
       "    <tr style=\"text-align: right;\">\n",
       "      <th></th>\n",
       "      <th>usgs_id</th>\n",
       "      <th>links</th>\n",
       "      <th>DS</th>\n",
       "      <th>Days</th>\n",
       "      <th>y</th>\n",
       "      <th>x</th>\n",
       "    </tr>\n",
       "  </thead>\n",
       "  <tbody>\n",
       "    <tr>\n",
       "      <th>0</th>\n",
       "      <td>5483450</td>\n",
       "      <td>437890.0</td>\n",
       "      <td>0.335900</td>\n",
       "      <td>237.759169</td>\n",
       "      <td>42.759944</td>\n",
       "      <td>-93.621849</td>\n",
       "    </tr>\n",
       "    <tr>\n",
       "      <th>1</th>\n",
       "      <td>5476590</td>\n",
       "      <td>279554.0</td>\n",
       "      <td>0.621756</td>\n",
       "      <td>128.447861</td>\n",
       "      <td>41.778597</td>\n",
       "      <td>-94.492749</td>\n",
       "    </tr>\n",
       "    <tr>\n",
       "      <th>2</th>\n",
       "      <td>6898000</td>\n",
       "      <td>555741.0</td>\n",
       "      <td>0.220627</td>\n",
       "      <td>361.983503</td>\n",
       "      <td>43.126111</td>\n",
       "      <td>-94.705833</td>\n",
       "    </tr>\n",
       "    <tr>\n",
       "      <th>3</th>\n",
       "      <td>5457000</td>\n",
       "      <td>522692.0</td>\n",
       "      <td>0.232616</td>\n",
       "      <td>343.326562</td>\n",
       "      <td>43.637222</td>\n",
       "      <td>-92.974444</td>\n",
       "    </tr>\n",
       "    <tr>\n",
       "      <th>4</th>\n",
       "      <td>6808820</td>\n",
       "      <td>216755.0</td>\n",
       "      <td>0.290281</td>\n",
       "      <td>275.123400</td>\n",
       "      <td>40.687139</td>\n",
       "      <td>-95.600222</td>\n",
       "    </tr>\n",
       "  </tbody>\n",
       "</table>\n",
       "</div>"
      ],
      "text/plain": [
       "   usgs_id     links        DS        Days          y          x\n",
       "0  5483450  437890.0  0.335900  237.759169  42.759944 -93.621849\n",
       "1  5476590  279554.0  0.621756  128.447861  41.778597 -94.492749\n",
       "2  6898000  555741.0  0.220627  361.983503  43.126111 -94.705833\n",
       "3  5457000  522692.0  0.232616  343.326562  43.637222 -92.974444\n",
       "4  6808820  216755.0  0.290281  275.123400  40.687139 -95.600222"
      ]
     },
     "execution_count": 25,
     "metadata": {},
     "output_type": "execute_result"
    }
   ],
   "source": [
    "D.head(5)"
   ]
  },
  {
   "cell_type": "markdown",
   "metadata": {},
   "source": [
    "**Table 3:** This table contains the results of an analysis performed over the USGS streamflow records at Iowa, the variable **DS** contains the estimated $\\Delta S$ and **Days** the number of days that each stations shows for water depletion in the hills."
   ]
  },
  {
   "cell_type": "markdown",
   "metadata": {},
   "source": [
    "**Params**: Creation of the params file for the model"
   ]
  },
  {
   "cell_type": "code",
   "execution_count": 31,
   "metadata": {},
   "outputs": [
    {
     "data": {
      "application/vnd.jupyter.widget-view+json": {
       "model_id": "a9e7ce24cc8f4614a4c5f4bedb1629f5",
       "version_major": 2,
       "version_minor": 0
      },
      "text/plain": [
       "FloatProgress(value=0.0, max=4.0)"
      ]
     },
     "metadata": {},
     "output_type": "display_data"
    }
   ],
   "source": [
    "f1 = FloatProgress(min =0, max = 4)\n",
    "display(f1)\n",
    "\n",
    "for factor in [30,60, 100, 150]:\n",
    "    #Writes the param file \n",
    "    Params = {'runoff_c1': {'value': 0.0041,'format': '%.4f'},\n",
    "        'runoff_e1': {'value': 1.67,'format': '%.2f'},\n",
    "        'soil_c1': {'value': k3,'format': '%.3e'},\n",
    "        'soil_c2': {'value': k3*factor,'format': '%.3e'},\n",
    "        'infil1': {'value': 0.0067,'format': '%.4f'},\n",
    "        'infil2': {'value': 2.0e-4,'format': '%.2e'},\n",
    "        'TopDepth': {'value': 0.1,'format': '%.2f'},\n",
    "        'StoIntercept': {'value': 1.0,'format': '%.2f'},\n",
    "        'StoNoFlow': {'value': 1.0 - SoilDepth,'format': '%.3f'},\n",
    "        'lambda1': {'value': 0.2,'format': '%.2f'},\n",
    "        'lambda2': {'value': -0.1,'format': '%.2f'},\n",
    "        'channel_vo': {'value': 0.33,'format': '%.2f'},}\n",
    "    Order = ['runoff_c1','runoff_e1','soil_c1','soil_c2','infil1','infil2',\n",
    "        'TopDepth', 'StoIntercept', 'StoNoFlow', 'lambda2', 'lambda1','channel_vo']\n",
    "    cu.set_parameters(DictP=Params, DicOrder=Order)\n",
    "    name = str(factor)\n",
    "    cu.write_prm(path_out+'params_'+name+'.prm', \n",
    "        extraNames=Order,\n",
    "        extraFormats=[Params[k]['format'] for k in Order])\n",
    "    f1.value += 1"
   ]
  },
  {
   "cell_type": "markdown",
   "metadata": {},
   "source": [
    "**Initial**: Setup of the initial conditions for the model, in this case we produce 5 different initial conditions all of them constant for the simulation region."
   ]
  },
  {
   "cell_type": "code",
   "execution_count": 6,
   "metadata": {},
   "outputs": [],
   "source": [
    "#Initial conditions\n",
    "initial = [1-SoilDepth*i for i in [0.001,0.2,0.4,0.6,0.8]]\n",
    "for c,init in enumerate(initial):\n",
    "    path = 'initial_'+str(c)+'.uini'\n",
    "    cu.write_initial(path_out+path, initial=[1e-06, 0.0001, 0.05, init, 1e-6, 1e-6, 1e-6])"
   ]
  },
  {
   "cell_type": "markdown",
   "metadata": {},
   "source": [
    "**Global files**: Asynch requires global fils and run files, the global files contain the setup for the model run, while the run files (well, they do the run). "
   ]
  },
  {
   "cell_type": "code",
   "execution_count": 30,
   "metadata": {},
   "outputs": [],
   "source": [
    "#Initialize the dictionary that holds the process contained in the runfile.\n",
    "year = 2016\n",
    "Proc = {}\n",
    "secondplane = True\n",
    "consecutive = 4\n",
    "\n",
    "#Iterate for the initial conditions\n",
    "c2 = 0\n",
    "for c,ini in enumerate(initial):\n",
    "    \n",
    "    #Iterate for the k3 factor\n",
    "    for factor in [30,60, 100, 150]:\n",
    "\n",
    "        #Run name \n",
    "        name = str(c) + '_' + str(factor)\n",
    "        \n",
    "        #Set the name of the global file\n",
    "        global_name = 'Case_'+str(year)+'_'+name+'.gbl'\n",
    "        #Writes the global file\n",
    "        cu.write_Global(path_out + global_name,model_uid=604, \n",
    "            date1=str(year)+'-04-01 01:00', \n",
    "            date2=str(year)+'-12-30 01:00',\n",
    "            rvrFile='topoFile.rvr', \n",
    "            rvrLink='',\n",
    "            prmFile='params_'+str(factor)+'.prm',\n",
    "            initialFile='initial_'+str(c)+'.uini',\n",
    "            rainPath = '/Users/nicolas/BaseData/Rainfall/Binary/st4_'+str(year)+'/iowa_',\n",
    "            controlFile='control.sav',\n",
    "            nComponents = 4,\n",
    "            Components = [0,3,4,5],\n",
    "            datResults='Out_'+str(year)+name+'.dat', \n",
    "            evpFile='evap.mon')\n",
    "        \n",
    "        #Updates the dictionary with the parameters to setup the run\n",
    "        if c == len(initial) or factor == 150:\n",
    "            secondplane = False\n",
    "        if c2 == consecutive:\n",
    "            secondplane = False\n",
    "            c2 = 0\n",
    "        else:\n",
    "            c2 += 1\n",
    "            secondplane = True\n",
    "        Proc.update({'Case_'+str(year)+'_'+name+'.gbl':{'nproc': 12, 'secondplane': secondplane}})\n",
    "#Writes the runfile with all the comands\n",
    "cu.write_runfile(path_out + 'runCase_'+str(year)+'.sh', Proc, jobName='soil_'+str(year))  "
   ]
  },
  {
   "cell_type": "markdown",
   "metadata": {},
   "source": [
    "# Experiment of the hill outflow."
   ]
  },
  {
   "cell_type": "code",
   "execution_count": 51,
   "metadata": {},
   "outputs": [],
   "source": [
    "def HillWater(S, k3, k4, Si = 1.0, Sn = 0.750):\n",
    "    if S < Si:\n",
    "        return k3*(S-Sn)\n",
    "    else:\n",
    "        #Is = (k3 - k3*f)*bl\n",
    "        Is = k3*(Si - Sn)\n",
    "        return Is + k4*(S-Si)"
   ]
  },
  {
   "cell_type": "code",
   "execution_count": 27,
   "metadata": {},
   "outputs": [],
   "source": [
    "%matplotlib inline \n",
    "import pylab as pl "
   ]
  },
  {
   "cell_type": "code",
   "execution_count": 70,
   "metadata": {},
   "outputs": [],
   "source": [
    "\n",
    "q = S.apply(HillWater, args= (k3v, k3v*20))"
   ]
  },
  {
   "cell_type": "code",
   "execution_count": 67,
   "metadata": {},
   "outputs": [],
   "source": [
    "S2 = pd.Series(np.linspace(0.770+1.5,1.4+1.5,20))\n",
    "q2 = S.apply(HillWater, args= (k3v,k3v*20))"
   ]
  },
  {
   "cell_type": "code",
   "execution_count": 77,
   "metadata": {},
   "outputs": [
    {
     "data": {
      "image/png": "[encoded data removed]",
      "text/plain": [
       "<Figure size 432x288 with 1 Axes>"
      ]
     },
     "metadata": {
      "needs_background": "light"
     },
     "output_type": "display_data"
    }
   ],
   "source": [
    "S = pd.Series(np.linspace(0.51, 1.2,20))\n",
    "for f in [5,10,20,100]:\n",
    "    q = S.apply(HillWater, args= (k3v, k3v*f, 0.5, 0.250))\n",
    "    pl.plot(S, q)moduel \n",
    "#pl.plot(S2, q2)"
   ]
  }
 ],
 "metadata": {
  "kernelspec": {
   "display_name": "Python [conda env:ifis] *",
   "language": "python",
   "name": "conda-env-ifis-py"
  },
  "language_info": {
   "codemirror_mode": {
    "name": "ipython",
    "version": 3
   },
   "file_extension": ".py",
   "mimetype": "text/x-python",
   "name": "python",
   "nbconvert_exporter": "python",
   "pygments_lexer": "ipython3",
   "version": "3.6.9"
  }
 },
 "nbformat": 4,
 "nbformat_minor": 2
}
